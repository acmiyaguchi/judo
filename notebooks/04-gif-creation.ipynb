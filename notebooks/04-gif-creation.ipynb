{
 "cells": [
  {
   "cell_type": "markdown",
   "metadata": {},
   "source": [
    "# generate optimized gifs for each technique"
   ]
  },
  {
   "cell_type": "code",
   "execution_count": 4,
   "metadata": {},
   "outputs": [],
   "source": [
    "from pathlib import Path\n",
    "\n",
    "src = Path(\"../data/clips\")\n",
    "dest = Path(\"../data/clips-gif\")\n",
    "dest.mkdir(exist_ok=True, parents=True)\n",
    "\n",
    "videos = sorted(src.glob(\"*.mp4\"))"
   ]
  },
  {
   "cell_type": "code",
   "execution_count": 5,
   "metadata": {},
   "outputs": [
    {
     "data": {
      "text/plain": [
       "CompletedProcess(args=['gifski', '--fps', '12', '--width', '320', '--quality', '40', '-o', '../data/clips-gif/ashi-waza_00_de-ashi-harai.gif', '../data/clips/ashi-waza_00_de-ashi-harai.mp4'], returncode=0, stdout=b'\\rFrame 1 / 72  _............................................................  5s \\r204KB GIF; Frame 56 / 72  ######################################_..........  0s \\r204KB GIF; Frame 72 / 72  ###################################################   \\r204KB GIF; Frame 72 / 72  ###################################################   \\rgifski created /Users/anthony/code/personal/judo/data/clips-gif/ashi-waza_00_de-ashi-harai.gif', stderr=b'[swscaler @ 0x130018000] [swscaler @ 0x120008000] No accelerated colorspace conversion found from yuv420p to rgba.\\n[swscaler @ 0x130018000] [swscaler @ 0x120018000] No accelerated colorspace conversion found from yuv420p to rgba.\\n[swscaler @ 0x130018000] [swscaler @ 0x120028000] No accelerated colorspace conversion found from yuv420p to rgba.\\n[swscaler @ 0x130018000] [swscaler @ 0x120038000] No accelerated colorspace conversion found from yuv420p to rgba.\\n[swscaler @ 0x130018000] [swscaler @ 0x120048000] No accelerated colorspace conversion found from yuv420p to rgba.\\n[swscaler @ 0x130018000] [swscaler @ 0x120058000] No accelerated colorspace conversion found from yuv420p to rgba.\\n[swscaler @ 0x130018000] [swscaler @ 0x120068000] No accelerated colorspace conversion found from yuv420p to rgba.\\n[swscaler @ 0x130018000] [swscaler @ 0x120078000] No accelerated colorspace conversion found from yuv420p to rgba.\\n[swscaler @ 0x130018000] [swscaler @ 0x120088000] No accelerated colorspace conversion found from yuv420p to rgba.\\n[swscaler @ 0x130018000] [swscaler @ 0x120088000] No accelerated colorspace conversion found from yuv420p to rgba.\\n[swscaler @ 0x130018000] [swscaler @ 0x120008000] No accelerated colorspace conversion found from yuv420p to rgba.\\n[swscaler @ 0x130018000] [swscaler @ 0x120018000] No accelerated colorspace conversion found from yuv420p to rgba.\\n[swscaler @ 0x130018000] [swscaler @ 0x120028000] No accelerated colorspace conversion found from yuv420p to rgba.\\n[swscaler @ 0x130018000] [swscaler @ 0x120038000] No accelerated colorspace conversion found from yuv420p to rgba.\\n[swscaler @ 0x130018000] [swscaler @ 0x120048000] No accelerated colorspace conversion found from yuv420p to rgba.\\n[swscaler @ 0x130018000] [swscaler @ 0x120058000] No accelerated colorspace conversion found from yuv420p to rgba.\\n[swscaler @ 0x130018000] [swscaler @ 0x120068000] No accelerated colorspace conversion found from yuv420p to rgba.\\n[swscaler @ 0x130018000] [swscaler @ 0x120078000] No accelerated colorspace conversion found from yuv420p to rgba.\\n[swscaler @ 0x120078000] [swscaler @ 0x128008000] No accelerated colorspace conversion found from yuv420p to rgba.\\n[swscaler @ 0x120078000] [swscaler @ 0x128018000] No accelerated colorspace conversion found from yuv420p to rgba.\\n[swscaler @ 0x120078000] [swscaler @ 0x128028000] No accelerated colorspace conversion found from yuv420p to rgba.\\n[swscaler @ 0x120078000] [swscaler @ 0x128038000] No accelerated colorspace conversion found from yuv420p to rgba.\\n[swscaler @ 0x120078000] [swscaler @ 0x128048000] No accelerated colorspace conversion found from yuv420p to rgba.\\n[swscaler @ 0x120078000] [swscaler @ 0x128058000] No accelerated colorspace conversion found from yuv420p to rgba.\\n[swscaler @ 0x120078000] [swscaler @ 0x128068000] No accelerated colorspace conversion found from yuv420p to rgba.\\n[swscaler @ 0x120078000] [swscaler @ 0x128078000] No accelerated colorspace conversion found from yuv420p to rgba.\\n[swscaler @ 0x120078000] [swscaler @ 0x128088000] No accelerated colorspace conversion found from yuv420p to rgba.\\n[swscaler @ 0x130018000] [swscaler @ 0x130028000] No accelerated colorspace conversion found from yuv420p to rgba.\\n[swscaler @ 0x130018000] [swscaler @ 0x130038000] No accelerated colorspace conversion found from yuv420p to rgba.\\n[swscaler @ 0x130018000] [swscaler @ 0x130048000] No accelerated colorspace conversion found from yuv420p to rgba.\\n[swscaler @ 0x130018000] [swscaler @ 0x130058000] No accelerated colorspace conversion found from yuv420p to rgba.\\n[swscaler @ 0x130018000] [swscaler @ 0x130068000] No accelerated colorspace conversion found from yuv420p to rgba.\\n[swscaler @ 0x130018000] [swscaler @ 0x130078000] No accelerated colorspace conversion found from yuv420p to rgba.\\n[swscaler @ 0x130018000] [swscaler @ 0x130088000] No accelerated colorspace conversion found from yuv420p to rgba.\\n[swscaler @ 0x130018000] [swscaler @ 0x130098000] No accelerated colorspace conversion found from yuv420p to rgba.\\n[swscaler @ 0x130018000] [swscaler @ 0x1300a8000] No accelerated colorspace conversion found from yuv420p to rgba.\\n')"
      ]
     },
     "execution_count": 5,
     "metadata": {},
     "output_type": "execute_result"
    }
   ],
   "source": [
    "from subprocess import run\n",
    "\n",
    "# import ffmpeg\n",
    "# from pygifsicle import optimize\n",
    "\n",
    "# let's downscale and aggressively compress the gif\n",
    "video = videos[0]\n",
    "path = dest / f\"{video.stem}.gif\"\n",
    "# override\n",
    "# (\n",
    "#     ffmpeg.input(video.as_posix())\n",
    "#     # change framerate to 10 and scale from 1280x720 to 320x180\n",
    "#     .filter('fps', fps=12)\n",
    "#     .filter('scale', 320, 180)\n",
    "#     # apply other filters to reduce size\n",
    "#     .output(path.as_posix())\n",
    "#     .overwrite_output()\n",
    "#     .run()\n",
    "# )\n",
    "# optimize(path, options=[\n",
    "#     # \"--scale=0.25\",\n",
    "#     \"--optimize=3\",\n",
    "#     # \"--lossy=30\",\n",
    "#     # \"--dither=halftone\"\n",
    "#     # \"--colors=256\",\n",
    "#     # \"--use-col=web\"\n",
    "# ])\n",
    "\n",
    "# lets use gifski to convert the gif to a gif again\n",
    "run(\n",
    "    f\"gifski --fps 12 --width 320 --quality 40 -o {path} {video}\".split(),\n",
    "    capture_output=True,\n",
    ")"
   ]
  },
  {
   "cell_type": "code",
   "execution_count": 6,
   "metadata": {},
   "outputs": [
    {
     "name": "stderr",
     "output_type": "stream",
     "text": [
      "  0%|          | 0/111 [00:00<?, ?it/s]"
     ]
    },
    {
     "name": "stderr",
     "output_type": "stream",
     "text": [
      "100%|██████████| 111/111 [00:44<00:00,  2.49it/s]\n"
     ]
    }
   ],
   "source": [
    "from tqdm import tqdm\n",
    "from subprocess import run\n",
    "\n",
    "src = Path(\"../data/clips\")\n",
    "dest = Path(\"../data/clips-gif\")\n",
    "dest.mkdir(exist_ok=True, parents=True)\n",
    "videos = sorted(src.glob(\"*.mp4\"))\n",
    "\n",
    "# lets do this in bulk now\n",
    "for video in tqdm(videos):\n",
    "    path = dest / f\"{video.stem}.gif\"\n",
    "    run(\n",
    "        f\"gifski --fps 12 --width 320 --quality 40 -o {path} {video}\".split(),\n",
    "        capture_output=True,\n",
    "    )"
   ]
  },
  {
   "cell_type": "code",
   "execution_count": 7,
   "metadata": {},
   "outputs": [
    {
     "name": "stderr",
     "output_type": "stream",
     "text": [
      "100%|██████████| 111/111 [00:47<00:00,  2.31it/s]\n"
     ]
    }
   ],
   "source": [
    "from tqdm import tqdm\n",
    "from subprocess import run\n",
    "\n",
    "src = Path(\"../data/clips-masked\")\n",
    "dest = Path(\"../data/clips-masked-gif\")\n",
    "dest.mkdir(exist_ok=True, parents=True)\n",
    "videos = sorted(src.glob(\"*.mp4\"))\n",
    "\n",
    "# lets do this in bulk now\n",
    "for video in tqdm(videos):\n",
    "    path = dest / f\"{video.stem}.gif\"\n",
    "    run(\n",
    "        f\"gifski --fps 12 --width 320 --quality 40 -o {path} {video}\".split(),\n",
    "        capture_output=True,\n",
    "    )"
   ]
  }
 ],
 "metadata": {
  "kernelspec": {
   "display_name": ".venv",
   "language": "python",
   "name": "python3"
  },
  "language_info": {
   "codemirror_mode": {
    "name": "ipython",
    "version": 3
   },
   "file_extension": ".py",
   "mimetype": "text/x-python",
   "name": "python",
   "nbconvert_exporter": "python",
   "pygments_lexer": "ipython3",
   "version": "3.10.12"
  },
  "orig_nbformat": 4
 },
 "nbformat": 4,
 "nbformat_minor": 2
}
