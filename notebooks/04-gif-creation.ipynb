{
 "cells": [
  {
   "cell_type": "markdown",
   "metadata": {},
   "source": [
    "# generate optimized gifs for each technique"
   ]
  },
  {
   "cell_type": "code",
   "execution_count": 1,
   "metadata": {},
   "outputs": [
    {
     "name": "stdout",
     "output_type": "stream",
     "text": [
      "total 2040\n",
      "-rw-r--r--  1 anthony  staff    59K Aug 20 22:32 judo_1-00_te-waza_seoi-nage_fps10.gif\n",
      "-rw-r--r--  1 anthony  staff    68K Aug 20 22:32 judo_1-00_te-waza_seoi-nage_fps12.gif\n",
      "-rw-r--r--  1 anthony  staff    80K Aug 20 22:32 judo_1-00_te-waza_seoi-nage_fps15.gif\n",
      "-rw-r--r--  1 anthony  staff    49K Aug 20 22:32 judo_1-00_te-waza_seoi-nage_fps8.gif\n",
      "-rw-r--r--  1 anthony  staff    60K Aug 20 22:32 judo_1-00_te-waza_seoi-nage_m20_l20.gif\n",
      "-rw-r--r--  1 anthony  staff    65K Aug 20 22:32 judo_1-00_te-waza_seoi-nage_m20_l50.gif\n",
      "-rw-r--r--  1 anthony  staff    71K Aug 20 22:32 judo_1-00_te-waza_seoi-nage_m50_l20.gif\n",
      "-rw-r--r--  1 anthony  staff    77K Aug 20 22:32 judo_1-00_te-waza_seoi-nage_m50_l50.gif\n",
      "-rw-r--r--  1 anthony  staff    50K Aug 20 22:32 judo_1-00_te-waza_seoi-nage_q20.gif\n",
      "-rw-r--r--  1 anthony  staff    53K Aug 20 22:32 judo_1-00_te-waza_seoi-nage_q30.gif\n",
      "-rw-r--r--  1 anthony  staff    57K Aug 20 22:32 judo_1-00_te-waza_seoi-nage_q35.gif\n",
      "-rw-r--r--  1 anthony  staff    59K Aug 20 22:32 judo_1-00_te-waza_seoi-nage_q40.gif\n",
      "-rw-r--r--  1 anthony  staff    73K Aug 20 22:32 judo_1-00_te-waza_seoi-nage_q50.gif\n"
     ]
    }
   ],
   "source": [
    "from pathlib import Path\n",
    "from subprocess import run\n",
    "\n",
    "src = Path(\"../data/clips/waza\")\n",
    "dest = Path(\"../data/tmp/gif\")\n",
    "dest.mkdir(exist_ok=True, parents=True)\n",
    "\n",
    "videos = sorted(src.glob(\"*.mp4\"))\n",
    "video = videos[0]\n",
    "\n",
    "# lets use gifski to convert the gif to a gif again\n",
    "for quality in [20, 30, 35, 40, 50]:\n",
    "    path = dest / f\"{video.stem}_q{quality}.gif\"\n",
    "    run(\n",
    "        f\"gifski --fps 10 --width 320 --extra --quality {quality} -o {path} {video}\".split(),\n",
    "        capture_output=True,\n",
    "    )\n",
    "# test fps\n",
    "for fps in [8, 10, 12, 15]:\n",
    "    path = dest / f\"{video.stem}_fps{fps}.gif\"\n",
    "    run(\n",
    "        f\"gifski --fps {fps} --width 320 --quality 40 -o {path} {video}\".split(),\n",
    "        capture_output=True,\n",
    "    )\n",
    "\n",
    "for motion, lossy in [(50, 50), (20, 20), (50, 20), (20, 50)]:\n",
    "    path = dest / f\"{video.stem}_m{motion}_l{lossy}.gif\"\n",
    "    run(\n",
    "        f\"gifski --fps 12 --width 320 --quality 40 --motion-quality {motion} --lossy-quality {lossy} -o {path} {video}\".split(),\n",
    "        capture_output=True,\n",
    "    )\n",
    "! ls -lh {dest}"
   ]
  },
  {
   "cell_type": "code",
   "execution_count": 2,
   "metadata": {},
   "outputs": [
    {
     "name": "stderr",
     "output_type": "stream",
     "text": [
      "  0%|          | 0/110 [00:00<?, ?it/s]"
     ]
    },
    {
     "name": "stderr",
     "output_type": "stream",
     "text": [
      "100%|██████████| 110/110 [01:02<00:00,  1.75it/s]\n"
     ]
    }
   ],
   "source": [
    "from tqdm import tqdm\n",
    "from subprocess import run\n",
    "\n",
    "src = Path(\"../data/clips/waza\")\n",
    "dest = Path(\"../data/clips/waza-gif\")\n",
    "dest.mkdir(exist_ok=True, parents=True)\n",
    "videos = sorted(src.glob(\"*.mp4\"))\n",
    "\n",
    "# lets do this in bulk now\n",
    "for video in tqdm(videos):\n",
    "    path = dest / f\"{video.stem}.gif\"\n",
    "    run(\n",
    "        f\"gifski --fps 10 --width 320 --quality 40 --extra -o {path} {video}\".split(),\n",
    "        capture_output=True,\n",
    "    )"
   ]
  },
  {
   "cell_type": "code",
   "execution_count": 3,
   "metadata": {},
   "outputs": [
    {
     "name": "stderr",
     "output_type": "stream",
     "text": [
      "100%|██████████| 110/110 [01:02<00:00,  1.77it/s]\n"
     ]
    }
   ],
   "source": [
    "from tqdm import tqdm\n",
    "from subprocess import run\n",
    "\n",
    "src = Path(\"../data/clips/waza-masked\")\n",
    "dest = Path(\"../data/clips/waza-masked-gif\")\n",
    "dest.mkdir(exist_ok=True, parents=True)\n",
    "videos = sorted(src.glob(\"*.mp4\"))\n",
    "\n",
    "# lets do this in bulk now\n",
    "for video in tqdm(videos):\n",
    "    path = dest / f\"{video.stem}.gif\"\n",
    "    run(\n",
    "        f\"gifski --fps 10 --width 320 --extra --quality 40 -o {path} {video}\".split(),\n",
    "        capture_output=True,\n",
    "    )"
   ]
  }
 ],
 "metadata": {
  "kernelspec": {
   "display_name": ".venv",
   "language": "python",
   "name": "python3"
  },
  "language_info": {
   "codemirror_mode": {
    "name": "ipython",
    "version": 3
   },
   "file_extension": ".py",
   "mimetype": "text/x-python",
   "name": "python",
   "nbconvert_exporter": "python",
   "pygments_lexer": "ipython3",
   "version": "3.10.12"
  },
  "orig_nbformat": 4
 },
 "nbformat": 4,
 "nbformat_minor": 2
}
